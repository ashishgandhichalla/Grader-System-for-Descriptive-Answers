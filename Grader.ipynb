{
 "cells": [
  {
   "cell_type": "code",
   "execution_count": 2,
   "id": "39e5ff3e",
   "metadata": {},
   "outputs": [],
   "source": [
    "#Importing all the required libraries.\n",
    "import tensorflow as tf       \n",
    "import pandas as pd           \n",
    "import tensorflow_hub as hub  \n",
    "module_url = \"https://tfhub.dev/google/universal-sentence-encoder/4\" #Model is imported from this URL\n",
    "model = hub.load(module_url)\n",
    "\n",
    "#Function to use the model\n",
    "def embeded(input):\n",
    "  return model(input)"
   ]
  },
  {
   "cell_type": "code",
   "execution_count": 3,
   "id": "4834e747",
   "metadata": {},
   "outputs": [],
   "source": [
    "#Reading the csv file\n",
    "Data = pd.read_csv(r'C:\\Users\\Prathmesh\\OneDrive\\Desktop\\Group_57_Test_Cases.csv')"
   ]
  },
  {
   "cell_type": "code",
   "execution_count": null,
   "id": "0fbefa2b",
   "metadata": {},
   "outputs": [],
   "source": [
    "#Embedding all the answers using the module\n",
    "message = [Data[\"Teacher's Answer\"][0], Data[\"Student's Answer\"][0]]\n",
    "message_embeddings = embeded(message)"
   ]
  },
  {
   "cell_type": "code",
   "execution_count": null,
   "id": "44a3192c",
   "metadata": {},
   "outputs": [],
   "source": [
    "#Checking the data type of the embedded outcomes because it should be a numpy array\n",
    "type(message_embeddings)"
   ]
  },
  {
   "cell_type": "code",
   "execution_count": 6,
   "id": "cd3c29bf",
   "metadata": {},
   "outputs": [
    {
     "data": {
      "text/plain": [
       "numpy.ndarray"
      ]
     },
     "execution_count": 6,
     "metadata": {},
     "output_type": "execute_result"
    }
   ],
   "source": [
    "type(tf.make_ndarray(tf.make_tensor_proto(message_embeddings)))"
   ]
  },
  {
   "cell_type": "code",
   "execution_count": 7,
   "id": "80c46a39",
   "metadata": {},
   "outputs": [],
   "source": [
    "a_np = tf.make_ndarray(tf.make_tensor_proto(message_embeddings))"
   ]
  },
  {
   "cell_type": "markdown",
   "id": "3edecc94",
   "metadata": {},
   "source": [
    "#### Code to use the Cosine similarity"
   ]
  },
  {
   "cell_type": "code",
   "execution_count": 8,
   "id": "2d8d0b44",
   "metadata": {},
   "outputs": [],
   "source": [
    "\n",
    "from numpy import dot                                          \n",
    "from numpy.linalg import norm                                  \n",
    "\n",
    "ans = []                                                        # This list will contain the cosin similarity value for each vector pair present.\n",
    "for i in range(len(Data)):\n",
    "  messages = [Data[\"Teacher's Answer\"][i], Data[\"Student's Answer\"][i]]               #storing each sentence pair in messages\n",
    "  message_embeddings = embeded(messages)                          #converting the sentence pair to vector pair using the embed() function\n",
    "  a = tf.make_ndarray(tf.make_tensor_proto(message_embeddings)) #storing the vector in the form of numpy array\n",
    "  cos_sim = dot(a[0], a[1])/(norm(a[0])*norm(a[1]))             #Finding the cosine between the two vectors\n",
    "  ans.append(cos_sim) "
   ]
  },
  {
   "cell_type": "code",
   "execution_count": 10,
   "id": "621d30c0",
   "metadata": {},
   "outputs": [],
   "source": [
    "Ans = pd.DataFrame(ans, columns = ['Similarity_Score']) "
   ]
  },
  {
   "cell_type": "code",
   "execution_count": 11,
   "id": "e3e03784",
   "metadata": {},
   "outputs": [
    {
     "data": {
      "text/html": [
       "<div>\n",
       "<style scoped>\n",
       "    .dataframe tbody tr th:only-of-type {\n",
       "        vertical-align: middle;\n",
       "    }\n",
       "\n",
       "    .dataframe tbody tr th {\n",
       "        vertical-align: top;\n",
       "    }\n",
       "\n",
       "    .dataframe thead th {\n",
       "        text-align: right;\n",
       "    }\n",
       "</style>\n",
       "<table border=\"1\" class=\"dataframe\">\n",
       "  <thead>\n",
       "    <tr style=\"text-align: right;\">\n",
       "      <th></th>\n",
       "      <th>Similarity_Score</th>\n",
       "    </tr>\n",
       "  </thead>\n",
       "  <tbody>\n",
       "    <tr>\n",
       "      <th>0</th>\n",
       "      <td>0.965042</td>\n",
       "    </tr>\n",
       "    <tr>\n",
       "      <th>1</th>\n",
       "      <td>0.956467</td>\n",
       "    </tr>\n",
       "    <tr>\n",
       "      <th>2</th>\n",
       "      <td>0.829985</td>\n",
       "    </tr>\n",
       "    <tr>\n",
       "      <th>3</th>\n",
       "      <td>0.793777</td>\n",
       "    </tr>\n",
       "    <tr>\n",
       "      <th>4</th>\n",
       "      <td>0.809767</td>\n",
       "    </tr>\n",
       "  </tbody>\n",
       "</table>\n",
       "</div>"
      ],
      "text/plain": [
       "   Similarity_Score\n",
       "0          0.965042\n",
       "1          0.956467\n",
       "2          0.829985\n",
       "3          0.793777\n",
       "4          0.809767"
      ]
     },
     "execution_count": 11,
     "metadata": {},
     "output_type": "execute_result"
    }
   ],
   "source": [
    "Ans.head()"
   ]
  },
  {
   "cell_type": "code",
   "execution_count": 12,
   "id": "e7c2c12c",
   "metadata": {},
   "outputs": [],
   "source": [
    "#Joining the scores wih our data.\n",
    "Data = Data.join(Ans) "
   ]
  },
  {
   "cell_type": "code",
   "execution_count": 16,
   "id": "aa8a31dc",
   "metadata": {},
   "outputs": [
    {
     "data": {
      "text/html": [
       "<div>\n",
       "<style scoped>\n",
       "    .dataframe tbody tr th:only-of-type {\n",
       "        vertical-align: middle;\n",
       "    }\n",
       "\n",
       "    .dataframe tbody tr th {\n",
       "        vertical-align: top;\n",
       "    }\n",
       "\n",
       "    .dataframe thead th {\n",
       "        text-align: right;\n",
       "    }\n",
       "</style>\n",
       "<table border=\"1\" class=\"dataframe\">\n",
       "  <thead>\n",
       "    <tr style=\"text-align: right;\">\n",
       "      <th></th>\n",
       "      <th>Question No.</th>\n",
       "      <th>Teacher's Answer</th>\n",
       "      <th>Student's Answer</th>\n",
       "      <th>Similarity_Score</th>\n",
       "    </tr>\n",
       "  </thead>\n",
       "  <tbody>\n",
       "    <tr>\n",
       "      <th>0</th>\n",
       "      <td>1</td>\n",
       "      <td>Machine learning (ML) is a type of artificial ...</td>\n",
       "      <td>Machine learning (ML) is a type of artificial ...</td>\n",
       "      <td>0.965042</td>\n",
       "    </tr>\n",
       "    <tr>\n",
       "      <th>1</th>\n",
       "      <td>2</td>\n",
       "      <td>Sebastian Vettel is a German racing driver who...</td>\n",
       "      <td>Sebastian Vettel is a German Formula 1 racing ...</td>\n",
       "      <td>0.956467</td>\n",
       "    </tr>\n",
       "    <tr>\n",
       "      <th>2</th>\n",
       "      <td>3</td>\n",
       "      <td>Pandas is an open source Python package that i...</td>\n",
       "      <td>Pandas is an open source Python package that i...</td>\n",
       "      <td>0.829985</td>\n",
       "    </tr>\n",
       "    <tr>\n",
       "      <th>3</th>\n",
       "      <td>4</td>\n",
       "      <td>BLEU is an algorithm for evaluating the qualit...</td>\n",
       "      <td>Blue is a algorithm that calculates the qualit...</td>\n",
       "      <td>0.793777</td>\n",
       "    </tr>\n",
       "    <tr>\n",
       "      <th>4</th>\n",
       "      <td>5</td>\n",
       "      <td>There are four types of machine learning algor...</td>\n",
       "      <td>The types of machine learning algorithms are s...</td>\n",
       "      <td>0.809767</td>\n",
       "    </tr>\n",
       "    <tr>\n",
       "      <th>5</th>\n",
       "      <td>6</td>\n",
       "      <td>This is a sample text</td>\n",
       "      <td>This is sample text</td>\n",
       "      <td>0.945808</td>\n",
       "    </tr>\n",
       "    <tr>\n",
       "      <th>6</th>\n",
       "      <td>7</td>\n",
       "      <td>Data science is made of three components: Line...</td>\n",
       "      <td>Data Science is made of three componets: Data ...</td>\n",
       "      <td>0.862282</td>\n",
       "    </tr>\n",
       "    <tr>\n",
       "      <th>7</th>\n",
       "      <td>8</td>\n",
       "      <td>The split() method splits a string into a list...</td>\n",
       "      <td>The split function splits a string into a list...</td>\n",
       "      <td>0.599314</td>\n",
       "    </tr>\n",
       "    <tr>\n",
       "      <th>8</th>\n",
       "      <td>9</td>\n",
       "      <td>Hypotenuse is the largest side of a right angl...</td>\n",
       "      <td>Hypotenuse is the largest side of a right angl...</td>\n",
       "      <td>1.000000</td>\n",
       "    </tr>\n",
       "    <tr>\n",
       "      <th>9</th>\n",
       "      <td>10</td>\n",
       "      <td>The types of sorting algorithms are Insertion ...</td>\n",
       "      <td>The types of sorting algorithms are Bubble sor...</td>\n",
       "      <td>0.946769</td>\n",
       "    </tr>\n",
       "  </tbody>\n",
       "</table>\n",
       "</div>"
      ],
      "text/plain": [
       "   Question No.                                   Teacher's Answer  \\\n",
       "0             1  Machine learning (ML) is a type of artificial ...   \n",
       "1             2  Sebastian Vettel is a German racing driver who...   \n",
       "2             3  Pandas is an open source Python package that i...   \n",
       "3             4  BLEU is an algorithm for evaluating the qualit...   \n",
       "4             5  There are four types of machine learning algor...   \n",
       "5             6                              This is a sample text   \n",
       "6             7  Data science is made of three components: Line...   \n",
       "7             8  The split() method splits a string into a list...   \n",
       "8             9  Hypotenuse is the largest side of a right angl...   \n",
       "9            10  The types of sorting algorithms are Insertion ...   \n",
       "\n",
       "                                    Student's Answer  Similarity_Score  \n",
       "0  Machine learning (ML) is a type of artificial ...          0.965042  \n",
       "1  Sebastian Vettel is a German Formula 1 racing ...          0.956467  \n",
       "2  Pandas is an open source Python package that i...          0.829985  \n",
       "3  Blue is a algorithm that calculates the qualit...          0.793777  \n",
       "4  The types of machine learning algorithms are s...          0.809767  \n",
       "5                                This is sample text          0.945808  \n",
       "6  Data Science is made of three componets: Data ...          0.862282  \n",
       "7  The split function splits a string into a list...          0.599314  \n",
       "8  Hypotenuse is the largest side of a right angl...          1.000000  \n",
       "9  The types of sorting algorithms are Bubble sor...          0.946769  "
      ]
     },
     "execution_count": 16,
     "metadata": {},
     "output_type": "execute_result"
    }
   ],
   "source": [
    "#Checking out the final scores.\n",
    "Data"
   ]
  },
  {
   "cell_type": "code",
   "execution_count": null,
   "id": "287392b9",
   "metadata": {},
   "outputs": [],
   "source": []
  }
 ],
 "metadata": {
  "kernelspec": {
   "display_name": "Python 3 (ipykernel)",
   "language": "python",
   "name": "python3"
  },
  "language_info": {
   "codemirror_mode": {
    "name": "ipython",
    "version": 3
   },
   "file_extension": ".py",
   "mimetype": "text/x-python",
   "name": "python",
   "nbconvert_exporter": "python",
   "pygments_lexer": "ipython3",
   "version": "3.9.7"
  }
 },
 "nbformat": 4,
 "nbformat_minor": 5
}
